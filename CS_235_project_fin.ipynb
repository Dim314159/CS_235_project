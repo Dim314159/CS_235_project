{
  "nbformat": 4,
  "nbformat_minor": 5,
  "metadata": {
    "kernelspec": {
      "display_name": "Python 3 (ipykernel)",
      "language": "python",
      "name": "python3"
    },
    "language_info": {
      "codemirror_mode": {
        "name": "ipython",
        "version": 3
      },
      "file_extension": ".py",
      "mimetype": "text/x-python",
      "name": "python",
      "nbconvert_exporter": "python",
      "pygments_lexer": "ipython3",
      "version": "3.8.8"
    },
    "colab": {
      "name": "CS_235_project.ipynb",
      "provenance": [],
      "collapsed_sections": [
        "hW0XL66vWGzz",
        "4hO9lJWYE89x"
      ],
      "machine_shape": "hm"
    },
    "accelerator": "GPU"
  },
  "cells": [
    {
      "cell_type": "code",
      "metadata": {
        "id": "6fea51cc-b7ab-4ced-871e-86f4a6fed090"
      },
      "source": [
        "import pandas as pd\n",
        "import numpy as np\n",
        "import matplotlib.pyplot as plt\n",
        "\n",
        "from sklearn.model_selection import train_test_split\n",
        "\n",
        "import torch\n",
        "import torch.nn as nn\n",
        "import torch.nn.functional as F\n",
        "\n",
        "from time import sleep\n",
        "import sys\n",
        "\n",
        "import random\n",
        "\n",
        "from sklearn.metrics import confusion_matrix\n",
        "import seaborn as sns\n",
        "# import sklearn.metrics as metrics"
      ],
      "id": "6fea51cc-b7ab-4ced-871e-86f4a6fed090",
      "execution_count": 1,
      "outputs": []
    },
    {
      "cell_type": "code",
      "metadata": {
        "colab": {
          "base_uri": "https://localhost:8080/"
        },
        "id": "1zgZxP5I7HcL",
        "outputId": "18b490f8-afe2-4769-8361-888c816bf216"
      },
      "source": [
        "from google.colab import drive \n",
        "drive.mount('/content/gdrive')"
      ],
      "id": "1zgZxP5I7HcL",
      "execution_count": 2,
      "outputs": [
        {
          "output_type": "stream",
          "name": "stdout",
          "text": [
            "Mounted at /content/gdrive\n"
          ]
        }
      ]
    },
    {
      "cell_type": "code",
      "metadata": {
        "colab": {
          "base_uri": "https://localhost:8080/"
        },
        "id": "LkUjoD_WAzE5",
        "outputId": "ea639da5-d990-4655-8e8a-f0d7c5c6edcb"
      },
      "source": [
        "device = torch.device('cuda' if torch.cuda.is_available() else 'cpu')\n",
        "device"
      ],
      "id": "LkUjoD_WAzE5",
      "execution_count": 3,
      "outputs": [
        {
          "output_type": "execute_result",
          "data": {
            "text/plain": [
              "device(type='cuda')"
            ]
          },
          "metadata": {},
          "execution_count": 3
        }
      ]
    },
    {
      "cell_type": "markdown",
      "metadata": {
        "id": "i1B7Fs4egYID"
      },
      "source": [
        "# RGB data"
      ],
      "id": "i1B7Fs4egYID"
    },
    {
      "cell_type": "code",
      "metadata": {
        "id": "0Fv5kN8WgPih"
      },
      "source": [
        "from torchvision import transforms\n",
        "from PIL import Image\n",
        "import glob"
      ],
      "id": "0Fv5kN8WgPih",
      "execution_count": 4,
      "outputs": []
    },
    {
      "cell_type": "code",
      "metadata": {
        "id": "LeQBElNhgPl6"
      },
      "source": [
        "#%%time\n",
        "#images = glob.glob('/content/gdrive/MyDrive/Colab Notebooks/UTKFace/*jpg')"
      ],
      "id": "LeQBElNhgPl6",
      "execution_count": null,
      "outputs": []
    },
    {
      "cell_type": "markdown",
      "metadata": {
        "id": "FHt7Y2W3m4H7"
      },
      "source": [
        "# legend\n",
        "ETHNICITIES:<br>\n",
        "0: \"White\"<br>\n",
        "1: \"Black\"<br>\n",
        "2: \"Asian\"<br>\n",
        "3: \"Indian<br>\n",
        "4: \"Other\"\n",
        "\n",
        "GENDERS:<br>\n",
        "0: \"Male\"<br>\n",
        "1: \"Female\""
      ],
      "id": "FHt7Y2W3m4H7"
    },
    {
      "cell_type": "code",
      "metadata": {
        "id": "CG7ggqMizQJr"
      },
      "source": [
        "#random.shuffle(images)\n",
        "#np.save('/content/gdrive/MyDrive/Colab Notebooks/im_names.npy', images)\n",
        "images = np.load('/content/gdrive/MyDrive/Colab Notebooks/im_names.npy')"
      ],
      "id": "CG7ggqMizQJr",
      "execution_count": 5,
      "outputs": []
    },
    {
      "cell_type": "code",
      "metadata": {
        "colab": {
          "base_uri": "https://localhost:8080/"
        },
        "id": "lbwe3XpNzRMb",
        "outputId": "bbeb91f1-6c10-460c-9b4c-27b5cd1023de"
      },
      "source": [
        "print(len(images))"
      ],
      "id": "lbwe3XpNzRMb",
      "execution_count": 6,
      "outputs": [
        {
          "output_type": "stream",
          "name": "stdout",
          "text": [
            "23700\n"
          ]
        }
      ]
    },
    {
      "cell_type": "code",
      "metadata": {
        "id": "Rh14ROFGgPpm",
        "cellView": "form"
      },
      "source": [
        "#@title ims_to_data\n",
        "def ims_to_data(images, dims, res=True):\n",
        "  transform = transforms.Compose([\n",
        "        transforms.ToTensor(),\n",
        "        transforms.Normalize((0.485, 0.456, 0.406), (0.229, 0.224, 0.225))]) \n",
        "  data_raw = []\n",
        "  n = len(images)\n",
        "  #age = []\n",
        "  #gender = []\n",
        "  #ethnicity = []\n",
        "  y = []\n",
        "  for i, item in enumerate(images):\n",
        "    tempo = item.split('/')[-1].split('_')\n",
        "    #age.append(int(tempo[0]))\n",
        "    #gender.append(int(tempo[1]))\n",
        "    #ethnicity.append(int(tempo[2]))\n",
        "    y.append(torch.Tensor([int(tempo[0]), int(tempo[1]), int(tempo[2])]))\n",
        "    img = Image.open(item)\n",
        "    if res:\n",
        "      img = img.resize((dims, dims), Image.ANTIALIAS)\n",
        "\n",
        "    img = transform(img)\n",
        "    data_raw.append(img)\n",
        "\n",
        "    sys.stdout.write('\\r%d%%, item %d' % ((100*(i+1)/n),(i+1)))\n",
        "    sys.stdout.flush()\n",
        "\n",
        "  #data = torch.stack(data_raw)\n",
        "  #return data, torch.Tensor(age), torch.Tensor(gender), torch.Tensor(ethnicity)\n",
        "  return torch.stack(data_raw), torch.stack(y)"
      ],
      "id": "Rh14ROFGgPpm",
      "execution_count": 7,
      "outputs": []
    },
    {
      "cell_type": "code",
      "metadata": {
        "colab": {
          "base_uri": "https://localhost:8080/"
        },
        "id": "BIplaJ3NgPtO",
        "outputId": "75d7456c-c739-4f3d-8c7c-ecf2810a5f82"
      },
      "source": [
        "%%time\n",
        "data, y = ims_to_data(images, 128, res=False)"
      ],
      "id": "BIplaJ3NgPtO",
      "execution_count": 9,
      "outputs": [
        {
          "output_type": "stream",
          "name": "stdout",
          "text": [
            "100%, item 23700CPU times: user 3min 2s, sys: 39.2 s, total: 3min 42s\n",
            "Wall time: 2h 13min\n"
          ]
        }
      ]
    },
    {
      "cell_type": "code",
      "metadata": {
        "colab": {
          "base_uri": "https://localhost:8080/"
        },
        "id": "i5VIWakiGDRc",
        "outputId": "22f8c7f4-fd50-430a-c5f7-faa3f5c4395b"
      },
      "source": [
        "data_size = data.size()\n",
        "print(data_size)\n",
        "print(y.size())\n",
        "# y - age, gender, ethnicity"
      ],
      "id": "i5VIWakiGDRc",
      "execution_count": 10,
      "outputs": [
        {
          "output_type": "stream",
          "name": "stdout",
          "text": [
            "torch.Size([23700, 3, 200, 200])\n",
            "torch.Size([23700, 3])\n"
          ]
        }
      ]
    },
    {
      "cell_type": "code",
      "metadata": {
        "id": "rPqwE5BqVPB1"
      },
      "source": [
        "dims = data_size[-1]"
      ],
      "id": "rPqwE5BqVPB1",
      "execution_count": 11,
      "outputs": []
    },
    {
      "cell_type": "markdown",
      "metadata": {
        "id": "hW0XL66vWGzz"
      },
      "source": [
        "# Split data"
      ],
      "id": "hW0XL66vWGzz"
    },
    {
      "cell_type": "code",
      "metadata": {
        "id": "hQxUNXfVVrXo"
      },
      "source": [
        "batch_n = data.size(0) / 256\n",
        "split_1 = int(0.75 * batch_n) * 256\n",
        "split_2 = int(0.9 * batch_n) * 256  "
      ],
      "id": "hQxUNXfVVrXo",
      "execution_count": 12,
      "outputs": []
    },
    {
      "cell_type": "code",
      "metadata": {
        "id": "D0huYZl_TcUZ"
      },
      "source": [
        "X_train = data[:split_1].float()\n",
        "X_val = data[split_1:split_2].float()\n",
        "X_test = data[split_2:].float()\n",
        "\n",
        "y_train = y[:split_1]\n",
        "y_val = y[split_1:split_2]\n",
        "y_test = y[split_2:]"
      ],
      "id": "D0huYZl_TcUZ",
      "execution_count": 13,
      "outputs": []
    },
    {
      "cell_type": "code",
      "metadata": {
        "id": "x1ck9egQdzLp",
        "colab": {
          "base_uri": "https://localhost:8080/"
        },
        "outputId": "f0b378e9-cc11-4ea6-cff1-79280481cc09"
      },
      "source": [
        "train_size = X_train.size()\n",
        "val_size = X_val.size()\n",
        "test_size = X_test.size()\n",
        "print(train_size)\n",
        "print(val_size)\n",
        "print(test_size)"
      ],
      "id": "x1ck9egQdzLp",
      "execution_count": 14,
      "outputs": [
        {
          "output_type": "stream",
          "name": "stdout",
          "text": [
            "torch.Size([17664, 3, 200, 200])\n",
            "torch.Size([3584, 3, 200, 200])\n",
            "torch.Size([2452, 3, 200, 200])\n"
          ]
        }
      ]
    },
    {
      "cell_type": "markdown",
      "metadata": {
        "id": "qcN6CEAypxgV"
      },
      "source": [
        "# Data distribution"
      ],
      "id": "qcN6CEAypxgV"
    },
    {
      "cell_type": "code",
      "metadata": {
        "id": "CL_rJ458TcaF",
        "colab": {
          "base_uri": "https://localhost:8080/",
          "height": 282
        },
        "outputId": "1ec9b0d9-59f3-4e35-c4e0-631d74472467"
      },
      "source": [
        "#data_hist = y_train[:,0]\n",
        "print('age')\n",
        "plt.hist(y_train[:,0], bins=np.arange(min(y_train[:,0]), max(y_train[:,0]) + 2, 2))\n",
        "#plt.hist(data_hist, bins=25)\n",
        "plt.show()"
      ],
      "id": "CL_rJ458TcaF",
      "execution_count": 125,
      "outputs": [
        {
          "output_type": "stream",
          "name": "stdout",
          "text": [
            "age\n"
          ]
        },
        {
          "output_type": "display_data",
          "data": {
            "image/png": "[encoded data removed]",
            "text/plain": [
              "<Figure size 432x288 with 1 Axes>"
            ]
          },
          "metadata": {
            "needs_background": "light"
          }
        }
      ]
    },
    {
      "cell_type": "code",
      "metadata": {
        "colab": {
          "base_uri": "https://localhost:8080/"
        },
        "id": "HIJ4mPb06GOI",
        "outputId": "13691de5-95ed-4455-8603-4c3d1c4ba217"
      },
      "source": [
        "age_keys, age_ratio = torch.unique(y_train[:,0], return_counts=True)\n",
        "age_keys = age_keys.numpy().astype(int)\n",
        "age_ratio = (age_ratio / max(age_ratio)).numpy()\n",
        "age_ratio = (np.log(np.floor(age_ratio**(-1))) * 2).astype(int)\n",
        "age_ratio"
      ],
      "id": "HIJ4mPb06GOI",
      "execution_count": 131,
      "outputs": [
        {
          "output_type": "execute_result",
          "data": {
            "text/plain": [
              "array([ 1,  2,  3,  3,  4,  5,  5,  4,  5,  5,  6,  5,  6,  5,  4,  4,  5,\n",
              "        4,  6,  3,  3,  3,  3,  1,  1,  0,  2,  1,  2,  2,  3,  2,  5,  3,\n",
              "        1,  2,  3,  3,  4,  2,  5,  4,  5,  6,  3,  5,  5,  5,  5,  3,  5,\n",
              "        4,  4,  3,  4,  4,  6,  4,  6,  3,  5,  5,  6,  7,  4,  6,  6,  6,\n",
              "        7,  5,  8,  6,  7,  8,  5,  7,  8,  6,  8,  5,  8,  8,  9,  9,  5,\n",
              "        8, 11,  8,  8,  6, 13,  9, 11, 10,  9, 10, 10, 13, 14, 12, 12, 14,\n",
              "       13, 12])"
            ]
          },
          "metadata": {},
          "execution_count": 131
        }
      ]
    },
    {
      "cell_type": "code",
      "metadata": {
        "id": "Knd5DxIEHxon"
      },
      "source": [
        "age_ratio = {age_keys[i]: age_ratio[i] for i in range(age_ratio.shape[0])}"
      ],
      "id": "Knd5DxIEHxon",
      "execution_count": 132,
      "outputs": []
    },
    {
      "cell_type": "code",
      "metadata": {
        "id": "4GOkKlP-TcdD",
        "colab": {
          "base_uri": "https://localhost:8080/",
          "height": 282
        },
        "outputId": "23b7095c-138a-4eeb-b98a-a0d23d4ca88d"
      },
      "source": [
        "print('gender')\n",
        "plt.hist(y_train[:,1])\n",
        "plt.show()"
      ],
      "id": "4GOkKlP-TcdD",
      "execution_count": 126,
      "outputs": [
        {
          "output_type": "stream",
          "name": "stdout",
          "text": [
            "gender\n"
          ]
        },
        {
          "output_type": "display_data",
          "data": {
            "image/png": "[encoded data removed]",
            "text/plain": [
              "<Figure size 432x288 with 1 Axes>"
            ]
          },
          "metadata": {
            "needs_background": "light"
          }
        }
      ]
    },
    {
      "cell_type": "code",
      "metadata": {
        "id": "NVASjeYgTcf-",
        "colab": {
          "base_uri": "https://localhost:8080/",
          "height": 282
        },
        "outputId": "e18784fb-60af-4ab4-db68-0c3149c70c5a"
      },
      "source": [
        "print('ethnicity')\n",
        "plt.hist(y_train[:,2])\n",
        "plt.show()"
      ],
      "id": "NVASjeYgTcf-",
      "execution_count": 127,
      "outputs": [
        {
          "output_type": "stream",
          "name": "stdout",
          "text": [
            "ethnicity\n"
          ]
        },
        {
          "output_type": "display_data",
          "data": {
            "image/png": "[encoded data removed]",
            "text/plain": [
              "<Figure size 432x288 with 1 Axes>"
            ]
          },
          "metadata": {
            "needs_background": "light"
          }
        }
      ]
    },
    {
      "cell_type": "code",
      "metadata": {
        "colab": {
          "base_uri": "https://localhost:8080/"
        },
        "id": "naJYg5aO1eN0",
        "outputId": "8c665e56-8c4e-4260-99af-42a20fa5da9e"
      },
      "source": [
        "eth_ratio = torch.unique(y_train[:,2], return_counts=True)[1]\n",
        "eth_ratio = (eth_ratio / max(eth_ratio)).numpy()\n",
        "eth_ratio = (np.log(np.ceil(eth_ratio**(-1))) * 2).astype(int)\n",
        "eth_ratio"
      ],
      "id": "naJYg5aO1eN0",
      "execution_count": 124,
      "outputs": [
        {
          "output_type": "execute_result",
          "data": {
            "text/plain": [
              "array([0, 2, 2, 2, 3])"
            ]
          },
          "metadata": {},
          "execution_count": 124
        }
      ]
    },
    {
      "cell_type": "markdown",
      "metadata": {
        "id": "4hO9lJWYE89x"
      },
      "source": [
        "# Plot functions for loss and accuracy"
      ],
      "id": "4hO9lJWYE89x"
    },
    {
      "cell_type": "code",
      "metadata": {
        "id": "9ZfKJTfvAx1h"
      },
      "source": [
        "def plot_train_val(loss_train, loss_val, mode):\n",
        "  if mode=='none':\n",
        "    plt.plot(np.asarray(loss_train)[:,0], label='age')\n",
        "    plt.plot(np.asarray(loss_val)[:,0], label='val')\n",
        "    plt.xlabel('epochs', fontsize=20)\n",
        "    plt.ylabel('loss', fontsize=20)\n",
        "    plt.legend()\n",
        "    plt.show()\n",
        "    plt.plot(np.asarray(loss_train)[:,1], label='gen')\n",
        "    plt.plot(np.asarray(loss_val)[:,1], label='val')\n",
        "    plt.xlabel('epochs', fontsize=20)\n",
        "    plt.ylabel('loss', fontsize=20)\n",
        "    plt.legend()\n",
        "    plt.show()\n",
        "    plt.plot(np.asarray(loss_train)[:,2], label='eth')\n",
        "    plt.plot(np.asarray(loss_val)[:,2], label='val')\n",
        "    plt.xlabel('epochs', fontsize=20)\n",
        "    plt.ylabel('loss', fontsize=20)\n",
        "    plt.legend()\n",
        "    plt.show()\n",
        "  else:\n",
        "    if mode=='age':\n",
        "      message = 'age loss'\n",
        "    elif mode=='gen':\n",
        "      message = 'gender loss'\n",
        "    else:\n",
        "      message = 'ethnicity loss'\n",
        "    print(message)\n",
        "    plt.plot(np.asarray(loss_train), label='train')\n",
        "    plt.plot(np.asarray(loss_val), label='val')\n",
        "    plt.xlabel('epochs', fontsize=20)\n",
        "    plt.ylabel('loss', fontsize=20)\n",
        "    plt.legend()\n",
        "    plt.show()"
      ],
      "id": "9ZfKJTfvAx1h",
      "execution_count": 18,
      "outputs": []
    },
    {
      "cell_type": "code",
      "metadata": {
        "id": "DL0xsCx4B9VF"
      },
      "source": [
        "def class_accuracy(model, X_in, y_in, batch_size, mode):\n",
        "  model.eval()\n",
        "  with torch.no_grad():\n",
        "    new_size = y_in.size(0) - (y_in.size(0) % batch_size)\n",
        "    acc_tempo = []\n",
        "    age = []\n",
        "    for i in range(0, new_size, batch_size):\n",
        "      X = X_in[i:i+batch_size]\n",
        "      y = y_in[i:i+batch_size]\n",
        "      X = X.to(device)\n",
        "      y = y.to(device)\n",
        "      output = model(X)\n",
        "        \n",
        "      if mode=='age':\n",
        "        age.extend(output.cpu())\n",
        "      elif mode=='gen':\n",
        "        pred = torch.argmax(output, dim=1).cpu().numpy()\n",
        "        acc_tempo.append((pred==y[:,1].cpu().numpy()).mean())\n",
        "      elif mode=='eth':\n",
        "        pred = torch.argmax(output, dim=1).cpu().numpy()\n",
        "        acc_tempo.append((pred==y[:,2].cpu().numpy()).mean())\n",
        "      else:\n",
        "        age.extend(output[:,0].cpu())\n",
        "        pred_g = torch.argmax(output[:,1:3], dim=1).cpu().numpy()\n",
        "        pred_e = torch.argmax(output[:,3:], dim=1).cpu().numpy()\n",
        "        acc_tempo.append([(pred_g==y[:,1].cpu().numpy()).mean(), \n",
        "                          (pred_e==y[:,2].cpu().numpy()).mean()])\n",
        "\n",
        "  if mode!='age':\n",
        "    acc = np.mean(np.asarray(acc_tempo), axis=0) \n",
        "\n",
        "  if mode=='age':\n",
        "    plt.scatter(y_in[:new_size,0], age)\n",
        "    plt.xlabel('real', fontsize=20)\n",
        "    plt.ylabel('predicted', fontsize=20)\n",
        "    plt.show()\n",
        "    print('age Mean Error is', torch.mean(torch.abs(y_in[:new_size,0] - torch.tensor(age))).item())\n",
        "  elif mode=='gen':\n",
        "    print('gender accuracy is', acc)\n",
        "  elif mode=='eth':\n",
        "    print('ethnicity accuracy is', acc)\n",
        "  else:\n",
        "    plt.scatter(y_in[:new_size,0], age)\n",
        "    plt.xlabel('real', fontsize=20)\n",
        "    plt.ylabel('predicted', fontsize=20)\n",
        "    plt.show()\n",
        "    print('age Mean Error is', torch.mean(torch.abs(y_in[:new_size,0] - torch.tensor(age))).item())\n",
        "    print('gender accuracy is', acc[0])\n",
        "    print('ethnicity accuracy is', acc[1])"
      ],
      "id": "DL0xsCx4B9VF",
      "execution_count": 19,
      "outputs": []
    },
    {
      "cell_type": "markdown",
      "metadata": {
        "id": "A1UIsW8GhetF"
      },
      "source": [
        "# Train-validate functions"
      ],
      "id": "A1UIsW8GhetF"
    },
    {
      "cell_type": "code",
      "metadata": {
        "id": "3oMTBuVzEt-J"
      },
      "source": [
        "def oversampling(mode, X_in, y_in, batch_size, age_ratio, eth_ratio):\n",
        "  ov_samp_X = []\n",
        "  ov_samp_y = []\n",
        "  if mode == 'age':\n",
        "    for i, item in enumerate(X_in):\n",
        "      r = age_ratio[int(y_in[i,0])]\n",
        "      for _ in range(r):\n",
        "        ov_samp_X.append(item + 0.1 * torch.randn_like(item))\n",
        "        ov_samp_y.append(y_in[i])\n",
        "  elif mode == 'eth':\n",
        "    for i, item in enumerate(X_in):\n",
        "      r = eth_ratio[int(y_in[i,2])]\n",
        "      for _ in range(r):\n",
        "        ov_samp_X.append(item + 0.1 * torch.randn_like(item))\n",
        "        ov_samp_y.append(y_in[i])\n",
        "  else:\n",
        "    for i, item in enumerate(X_in):\n",
        "      r = (age_ratio[int(y_in[i,0])] + eth_ratio[int(y_in[i,2])]) // 2\n",
        "      for _ in range(r):\n",
        "        ov_samp_X.append(item + 0.1 * torch.randn_like(item))\n",
        "        ov_samp_y.append(y_in[i])\n",
        "  X = torch.cat((X_in, torch.stack(ov_samp_X)), dim=0)\n",
        "  y = torch.cat((y_in, torch.stack(ov_samp_y)), dim=0)\n",
        "  return X, y"
      ],
      "id": "3oMTBuVzEt-J",
      "execution_count": 165,
      "outputs": []
    },
    {
      "cell_type": "code",
      "metadata": {
        "id": "h1WCDaxCTci9"
      },
      "source": [
        "def batch_indexing(batch_size, data_size):\n",
        "  num_inds = data_size - (data_size % batch_size)\n",
        "  return np.random.permutation(num_inds)"
      ],
      "id": "h1WCDaxCTci9",
      "execution_count": 21,
      "outputs": []
    },
    {
      "cell_type": "code",
      "metadata": {
        "id": "jkJOBLQI-mzb"
      },
      "source": [
        "def train_validate(model, X_train, y_train, X_val, y_val, params, optimizer):\n",
        "  epochs, batch_size, mode, l_a, l_g, l_e, aug, ov_samp, age_ratio, eth_ratio = params\n",
        "\n",
        "  loss_train = []\n",
        "  loss_val = []\n",
        "    \n",
        "  for ep in range(epochs):\n",
        "    indices = batch_indexing(batch_size, y_train.size(0))\n",
        "    new_size = indices.shape[0]\n",
        "    loss_tempo = []\n",
        "    model.train()\n",
        "    for i in range(0, new_size, batch_size):\n",
        "      inds = indices[i:i+batch_size]\n",
        "      X = X_train[inds].detach().clone()\n",
        "      y = y_train[inds].detach().clone()\n",
        "\n",
        "      # oversampling\n",
        "      if ov_samp and mode != 'gen':\n",
        "        X, y = oversampling(mode, X, y, batch_size, age_ratio, eth_ratio)\n",
        "\n",
        "      # augmentation\n",
        "      if random.random() < aug:\n",
        "        X = torch.fliplr(X)\n",
        "        # if random.choice([True, False]):\n",
        "        #   X = torch.fliplr(X)\n",
        "        # else:\n",
        "        #   X = X + 0.1 * torch.randn_like(X)\n",
        "\n",
        "      X = X.to(device)\n",
        "      y = y.to(device)\n",
        "\n",
        "      output = model(X)\n",
        "      \n",
        "      if mode=='age':\n",
        "        loss = l_a(output.view(-1), y[:,0])\n",
        "      elif mode=='gen':\n",
        "        loss = l_g(output, y[:,1].long())\n",
        "      elif mode=='eth':\n",
        "        loss = l_e(output, y[:,2].long())\n",
        "      else:\n",
        "        loss_a = l_a(output[:,0].view(-1), y[:,0])\n",
        "        loss_g = l_g(output[:,1:3], y[:,1].long())\n",
        "        loss_e = l_e(output[:,3:8], y[:,2].long())\n",
        "        loss = loss_a / 100 + loss_g + loss_e / 2.5\n",
        "\n",
        "      optimizer.zero_grad()\n",
        "      loss.backward()\n",
        "      optimizer.step()\n",
        "\n",
        "      if mode=='none':\n",
        "        loss_tempo.append([loss_a.item(), loss_g.item(), loss_e.item()])\n",
        "      else:\n",
        "        loss_tempo.append(loss.item())\n",
        "    \n",
        "    loss_train.append(np.mean(np.asarray(loss_tempo), axis=0))\n",
        "\n",
        "    sys.stdout.write('\\r[%-50s] %d%%, epoch %d' % ('='*int(50*(ep+1)/epochs), (100*(ep+1)/epochs),(ep+1)))\n",
        "    sys.stdout.flush()\n",
        "\n",
        "    model.eval()\n",
        "    with torch.no_grad():\n",
        "      new_size = y_val.size(0) - (y_val.size(0) % batch_size)\n",
        "      loss_tempo = []\n",
        "      for i in range(0, new_size, batch_size):\n",
        "        X = X_val[i:i+batch_size]\n",
        "        y = y_val[i:i+batch_size]\n",
        "        X = X.to(device)\n",
        "        y = y.to(device)\n",
        "        output = model(X)\n",
        "        \n",
        "        if mode=='age':\n",
        "          loss = l_a(output.view(-1), y[:,0])\n",
        "        elif mode=='gen':\n",
        "          loss = l_g(output, y[:,1].long())\n",
        "        elif mode=='eth':\n",
        "          loss = l_e(output, y[:,2].long())\n",
        "        else:\n",
        "          loss_a = l_a(output[:,0].view(-1), y[:,0])\n",
        "          loss_g = l_g(output[:,1:3], y[:,1].long())\n",
        "          loss_e = l_e(output[:,3:8], y[:,2].long())\n",
        "          loss = loss_a / 100 + loss_g + loss_e / 2.5\n",
        "\n",
        "        if mode=='none':\n",
        "          loss_tempo.append([loss_a.item(), loss_g.item(), loss_e.item()])\n",
        "        else:\n",
        "          loss_tempo.append(loss.item())\n",
        "    loss_val.append(np.mean(np.asarray(loss_tempo), axis=0))\n",
        "    \n",
        "  sys.stdout.write('\\n')\n",
        "\n",
        "  return loss_train, loss_val"
      ],
      "id": "jkJOBLQI-mzb",
      "execution_count": 166,
      "outputs": []
    },
    {
      "cell_type": "code",
      "metadata": {
        "id": "S9gGegUM5h5X"
      },
      "source": [
        "# l2_lambda = 0.01\n",
        "# l2_reg = torch.tensor(0.)\n",
        "# for param in model.parameters():\n",
        "#     l2_reg += torch.norm(param)\n",
        "# loss += l2_lambda * l2_reg"
      ],
      "id": "S9gGegUM5h5X",
      "execution_count": null,
      "outputs": []
    },
    {
      "cell_type": "markdown",
      "metadata": {
        "id": "XP8y-WhchlrY"
      },
      "source": [
        "# Models"
      ],
      "id": "XP8y-WhchlrY"
    },
    {
      "cell_type": "code",
      "metadata": {
        "id": "uD9OrLwxTcp_",
        "cellView": "form"
      },
      "source": [
        "#@title res_CNN\n",
        "class res_CNN(nn.Module):\n",
        "  def __init__(self, start, dims, mode='none', input_size=3):\n",
        "    super(res_CNN, self).__init__()\n",
        "    self.input_size = input_size\n",
        "    self.dims = dims\n",
        "    self.mode = mode\n",
        "            \n",
        "    self.conv1 = nn.Conv2d(input_size, start, 11, padding=1)\n",
        "    self.bn1 = nn.BatchNorm2d(start)\n",
        "        \n",
        "    self.conv2 = nn.Conv2d(start, start*2, 9, padding=5)\n",
        "    self.bn2 = nn.BatchNorm2d(start*2)\n",
        "    self.conv3 = nn.Conv2d(start*2, start*4, 7, padding=3)\n",
        "    self.bn3 = nn.BatchNorm2d(start*4)\n",
        "        \n",
        "    self.conv4 = nn.Conv2d(start*4, start*8, 5, padding=2)\n",
        "    self.bn4 = nn.BatchNorm2d(start*8)\n",
        "    self.conv5 = nn.Conv2d(start*8, start*16, 3, padding=1)\n",
        "    self.bn5 = nn.BatchNorm2d(start*16)\n",
        "        \n",
        "    self.mp = nn.MaxPool2d(2)\n",
        "    self.ap = nn.AvgPool2d(2)\n",
        "    self.ap4 = nn.AvgPool2d(4)\n",
        "    \n",
        "    input_dims = self.calc_input_dims()\n",
        "    factor = input_dims // 3\n",
        "\n",
        "    if mode=='age':\n",
        "      self.fc_a1 = nn.Linear(input_dims, factor)\n",
        "      self.fc_a2 = nn.Linear(factor, 1)\n",
        "    elif mode=='gen':\n",
        "      self.fc_g1 = nn.Linear(input_dims, factor)\n",
        "      self.fc_g2 = nn.Linear(factor, 2)\n",
        "    elif mode=='eth':\n",
        "      self.fc_e1 = nn.Linear(input_dims, factor)\n",
        "      self.fc_e2 = nn.Linear(factor, 5)\n",
        "    else:\n",
        "      self.fc_a1 = nn.Linear(input_dims, factor)\n",
        "      self.fc_a2 = nn.Linear(factor, 1)\n",
        "      self.fc_g1 = nn.Linear(input_dims, factor)\n",
        "      self.fc_g2 = nn.Linear(factor, 2)\n",
        "      self.fc_e1 = nn.Linear(input_dims, factor)\n",
        "      self.fc_e2 = nn.Linear(factor, 5)\n",
        "\n",
        "    self.weights_init()\n",
        "\n",
        "  def weights_init(self):\n",
        "    for m in self.modules():\n",
        "      if isinstance(m, nn.Conv2d):\n",
        "        nn.init.kaiming_uniform_(m.weight, mode='fan_in', nonlinearity='relu')\n",
        "              \n",
        "  def calc_input_dims(self):\n",
        "    data = torch.zeros((1, self.input_size, self.dims, self.dims))\n",
        "    \n",
        "    data = self.conv1(data)\n",
        "    data = self.mp(data)\n",
        "    data = self.conv2(data)\n",
        "    data = self.mp(data)\n",
        "    data = self.conv3(data)\n",
        "    data = self.mp(data)\n",
        "    data = self.conv4(data)\n",
        "    data = self.mp(data)\n",
        "    data = self.conv5(data)\n",
        "    data = self.mp(data)\n",
        "    \n",
        "    return int(np.prod(data.size()))\n",
        "\n",
        "  def forward(self, data):\n",
        "    data = self.conv1(data)\n",
        "    data = self.mp(data)\n",
        "    data = self.bn1(data)\n",
        "    data_r = F.relu(data)\n",
        "    \n",
        "    \n",
        "    data = self.conv2(data_r)\n",
        "    data = self.mp(data)\n",
        "    data = self.bn2(data)\n",
        "    data = F.relu(data)\n",
        "    data = self.conv3(data)\n",
        "    data = self.mp(data)\n",
        "    data = data + self.ap4(data_r.repeat(1,4,1,1))\n",
        "    data = self.bn3(data)\n",
        "    data_r = F.relu(data)\n",
        "    \n",
        "    data = self.conv4(data_r)\n",
        "    data = self.mp(data)\n",
        "    data = self.bn4(data)\n",
        "    data = F.relu(data)\n",
        "    data = self.conv5(data)\n",
        "    data = self.mp(data)\n",
        "    data = data + self.ap4(data_r.repeat(1,4,1,1))\n",
        "    data = self.bn5(data)\n",
        "    data = F.relu(data)\n",
        "    \n",
        "    data = data.view(data.size(0), -1)\n",
        "\n",
        "    if self.mode=='age':\n",
        "      data = F.relu(self.fc_a1(data))\n",
        "      data = F.relu(self.fc_a2(data))\n",
        "    elif self.mode=='gen':\n",
        "      data = F.relu(self.fc_g1(data))\n",
        "      data = torch.sigmoid(self.fc_g2(data))\n",
        "    elif self.mode == 'eth':\n",
        "      data = F.relu(self.fc_e1(data))\n",
        "      data = torch.sigmoid(self.fc_e2(data))\n",
        "    else:\n",
        "      data_a = F.relu(self.fc_a1(data))\n",
        "      data_a = F.relu(self.fc_a2(data_a))\n",
        "      data_g = F.relu(self.fc_g1(data))\n",
        "      data_g = torch.sigmoid(self.fc_g2(data_g))\n",
        "      data_e = F.relu(self.fc_e1(data))\n",
        "      data_e = torch.sigmoid(self.fc_e2(data_e))\n",
        "      data = torch.cat((data_a, data_g, data_e), dim=1)\n",
        "    \n",
        "    return data"
      ],
      "id": "uD9OrLwxTcp_",
      "execution_count": null,
      "outputs": []
    },
    {
      "cell_type": "code",
      "metadata": {
        "cellView": "form",
        "id": "wLx-hyJ06VOL"
      },
      "source": [
        "#@title simple_CNN\n",
        "class simple_CNN(nn.Module):\n",
        "  def __init__(self, start, dims, mode='none', input_size=3):\n",
        "    super(simple_CNN, self).__init__()\n",
        "    self.input_size = input_size\n",
        "    self.dims = dims\n",
        "    self.mode = mode\n",
        "            \n",
        "    self.conv1 = nn.Conv2d(input_size, start, 9, padding=4)\n",
        "    self.bn1 = nn.BatchNorm2d(start)\n",
        "    \n",
        "    self.conv2 = nn.Conv2d(start, start*2, 7, padding=3)\n",
        "    self.bn2 = nn.BatchNorm2d(start*2)\n",
        "\n",
        "    self.conv3 = nn.Conv2d(start*2, start*4, 5, padding=2)\n",
        "    self.bn3 = nn.BatchNorm2d(start*4)\n",
        "        \n",
        "    self.conv4 = nn.Conv2d(start*4, start*8, 3, padding=1)\n",
        "    self.bn4 = nn.BatchNorm2d(start*8)\n",
        "\n",
        "    self.conv5 = nn.Conv2d(start*8, start*16, 3)\n",
        "    self.bn5 = nn.BatchNorm2d(start*16)\n",
        "    \n",
        "    self.mp = nn.MaxPool2d(2)\n",
        "\n",
        "    input_dims = self.calc_input_dims()\n",
        "    factor = input_dims // 3\n",
        "\n",
        "    if mode=='age':\n",
        "      self.fc_a1 = nn.Linear(input_dims, factor)\n",
        "      self.fc_a2 = nn.Linear(factor, 1)\n",
        "    elif mode=='gen':\n",
        "      self.fc_g1 = nn.Linear(input_dims, factor)\n",
        "      self.fc_g2 = nn.Linear(factor, 2)\n",
        "    elif mode=='eth':\n",
        "      self.fc_e1 = nn.Linear(input_dims, factor)\n",
        "      self.fc_e2 = nn.Linear(factor, 5)\n",
        "    else:\n",
        "      self.fc_a1 = nn.Linear(input_dims, factor)\n",
        "      self.fc_a2 = nn.Linear(factor, 1)\n",
        "      self.fc_g1 = nn.Linear(input_dims, factor)\n",
        "      self.fc_g2 = nn.Linear(factor, 2)\n",
        "      self.fc_e1 = nn.Linear(input_dims, factor)\n",
        "      self.fc_e2 = nn.Linear(factor, 5)\n",
        "\n",
        "    self.weights_init()\n",
        "  \n",
        "  def weights_init(self):\n",
        "    for m in self.modules():\n",
        "      if isinstance(m, nn.Conv2d):\n",
        "        nn.init.kaiming_uniform_(m.weight, mode='fan_in', nonlinearity='relu')\n",
        "              \n",
        "  def calc_input_dims(self):\n",
        "    tempo = torch.zeros((1, self.input_size, self.dims, self.dims))\n",
        "    tempo = self.conv1(tempo)\n",
        "    tempo = self.mp(tempo)\n",
        "    tempo = self.conv2(tempo)\n",
        "    tempo = self.mp(tempo)\n",
        "    tempo = self.conv3(tempo)\n",
        "    tempo = self.mp(tempo)\n",
        "    tempo = self.conv4(tempo)\n",
        "    tempo = self.mp(tempo)\n",
        "    tempo = self.conv5(tempo)\n",
        "    tempo = self.mp(tempo)\n",
        "    return int(np.prod(tempo.size()))\n",
        "\n",
        "  def forward(self, data):\n",
        "    data = self.conv1(data)\n",
        "    data = self.mp(data)\n",
        "    data = self.bn1(data)\n",
        "    data = F.relu(data)\n",
        "    \n",
        "    data = self.conv2(data)\n",
        "    data = self.mp(data)\n",
        "    data = self.bn2(data)\n",
        "    data = F.relu(data)\n",
        "\n",
        "    data = self.conv3(data)\n",
        "    data = self.mp(data)\n",
        "    data = self.bn3(data)\n",
        "    data = F.relu(data)\n",
        "    \n",
        "    data = self.conv4(data)\n",
        "    data = self.mp(data)\n",
        "    data = self.bn4(data)\n",
        "    data = F.relu(data)\n",
        "\n",
        "    data = self.conv5(data)\n",
        "    data = self.mp(data)\n",
        "    data = self.bn5(data)\n",
        "    data = F.relu(data)\n",
        "    \n",
        "    data = data.view(data.size(0), -1)\n",
        "    \n",
        "    if self.mode=='age':\n",
        "      data = F.relu(self.fc_a1(data))\n",
        "      data = F.relu(self.fc_a2(data))\n",
        "    elif self.mode=='gen':\n",
        "      data = F.relu(self.fc_g1(data))\n",
        "      data = torch.sigmoid(self.fc_g2(data))\n",
        "    elif self.mode == 'eth':\n",
        "      data = F.relu(self.fc_e1(data))\n",
        "      data = torch.sigmoid(self.fc_e2(data))\n",
        "    else:\n",
        "      data_a = F.relu(self.fc_a1(data))\n",
        "      data_a = F.relu(self.fc_a2(data_a))\n",
        "      data_g = F.relu(self.fc_g1(data))\n",
        "      data_g = torch.sigmoid(self.fc_g2(data_g))\n",
        "      data_e = F.relu(self.fc_e1(data))\n",
        "      data_e = torch.sigmoid(self.fc_e2(data_e))\n",
        "      data = torch.cat((data_a, data_g, data_e), dim=1)\n",
        "    \n",
        "    return data"
      ],
      "id": "wLx-hyJ06VOL",
      "execution_count": null,
      "outputs": []
    },
    {
      "cell_type": "code",
      "metadata": {
        "id": "-1pAkkWZdRWp",
        "cellView": "form"
      },
      "source": [
        "#@title tree_full_CNN\n",
        "class tree_full_CNN(nn.Module):\n",
        "  def __init__(self, start, dims, drop_rate, mode='none', input_size=3):\n",
        "    super(tree_full_CNN, self).__init__()\n",
        "    self.input_size = input_size\n",
        "    self.dims = dims\n",
        "    self.mode = mode\n",
        "\n",
        "    new_start = start // 2\n",
        "    self.conv_1 = nn.Conv2d(self.input_size, new_start, 13, padding=1) # 200-94\n",
        "    self.bn_1 = nn.BatchNorm2d(new_start)\n",
        "\n",
        "    self.conv_b = nn.Conv2d(new_start, start, 11, padding=5) # 128-64        \n",
        "            \n",
        "    #self.conv_b = nn.Conv2d(self.input_size, start, 11, padding=5) # 128-64\n",
        "    self.bn_b = nn.BatchNorm2d(start)\n",
        "\n",
        "    self.conv_c1 = nn.Conv2d(start, start, 9, padding=4) # 64\n",
        "    self.bn_c1 = nn.BatchNorm2d(start)\n",
        "\n",
        "    self.conv_l1 = nn.Conv2d(start*2, start*2, 5, padding=2) # 64\n",
        "    self.bn_l1 = nn.BatchNorm2d(start*2)\n",
        "\n",
        "    self.conv_r1 = nn.Conv2d(start*2, start*2, 5, padding=2) # 64\n",
        "    self.bn_r1 = nn.BatchNorm2d(start*2)\n",
        "\n",
        "    self.conv_c2 = nn.Conv2d(start*5, start*5, 7, padding=3) # 32\n",
        "    self.bn_c2 = nn.BatchNorm2d(start*5)\n",
        "\n",
        "    self.conv_l2 = nn.Conv2d(start*7, start*7, 3, padding=1) # 32\n",
        "    self.bn_l2 = nn.BatchNorm2d(start*7)\n",
        "\n",
        "    self.conv_r2 = nn.Conv2d(start*7, start*7, 3, padding=1) # 32\n",
        "    self.bn_r2 = nn.BatchNorm2d(start*7)\n",
        "\n",
        "    self.conv_l3 = nn.Conv2d(start*19, start*19, 3, padding=1) # 16\n",
        "    self.bn_l3 = nn.BatchNorm2d(start*19)\n",
        "\n",
        "    self.conv_r3 = nn.Conv2d(start*19, start*19, 3, padding=1) # 16\n",
        "    self.bn_r3 = nn.BatchNorm2d(start*19)\n",
        "\n",
        "    self.conv_f = nn.Conv2d(start*43, start*43, 3) # 8\n",
        "    self.bn_f = nn.BatchNorm2d(start*43)    \n",
        "        \n",
        "    self.mp = nn.MaxPool2d(2, ceil_mode=False)\n",
        "    self.ap = nn.AvgPool2d(2, ceil_mode=False)\n",
        "    self.dropout = nn.Dropout(drop_rate)\n",
        "    \n",
        "    input_dims = self.calc_input_dims()\n",
        "    factor = input_dims // 3\n",
        "\n",
        "    if mode=='age':\n",
        "      self.fc_a1 = nn.Linear(input_dims, factor)\n",
        "      self.bn_a1 = nn.BatchNorm1d(factor)\n",
        "      self.fc_a2 = nn.Linear(factor, 1)\n",
        "    elif mode=='gen':\n",
        "      self.fc_g1 = nn.Linear(input_dims, factor)\n",
        "      self.bn_g1 = nn.BatchNorm1d(factor)\n",
        "      self.fc_g2 = nn.Linear(factor, 2)\n",
        "    elif mode=='eth':\n",
        "      self.fc_e1 = nn.Linear(input_dims, factor)\n",
        "      self.bn_e1 = nn.BatchNorm1d(factor)\n",
        "      self.fc_e2 = nn.Linear(factor, 5)\n",
        "    else:\n",
        "      self.fc_a1 = nn.Linear(input_dims, factor)\n",
        "      self.bn_a1 = nn.BatchNorm1d(factor)\n",
        "      self.fc_a2 = nn.Linear(factor, 1)\n",
        "      self.fc_g1 = nn.Linear(input_dims, factor)\n",
        "      self.bn_g1 = nn.BatchNorm1d(factor)\n",
        "      self.fc_g2 = nn.Linear(factor, 2)\n",
        "      self.fc_e1 = nn.Linear(input_dims, factor)\n",
        "      self.bn_e1 = nn.BatchNorm1d(factor)\n",
        "      self.fc_e2 = nn.Linear(factor, 5)\n",
        "\n",
        "    self.weights_init()\n",
        "  \n",
        "  def weights_init(self):\n",
        "    for m in self.modules():\n",
        "      if isinstance(m, nn.Conv2d):\n",
        "        nn.init.kaiming_uniform_(m.weight, mode='fan_in', nonlinearity='relu')\n",
        "              \n",
        "  def calc_input_dims(self):\n",
        "    data = torch.zeros((1, self.input_size, self.dims, self.dims))\n",
        "\n",
        "    data = self.conv_1(data)\n",
        "    data = self.ap(data)\n",
        "\n",
        "    data = self.conv_b(data)\n",
        "    data = self.ap(data)\n",
        "        \n",
        "    data_c = self.conv_c1(data)\n",
        "    \n",
        "    data = torch.cat((data, data_c), dim=1)\n",
        "\n",
        "    data_l = self.conv_l1(data)\n",
        "    data_l = self.mp(data_l)\n",
        "    \n",
        "    data_r = self.conv_r1(data)\n",
        "    data_r = self.mp(data_r)\n",
        "\n",
        "    data_c = self.ap(data_c)\n",
        "    data_c = torch.cat((data_l, data_c, data_r), dim=1)\n",
        "    data_c = self.conv_c2(data_c)\n",
        "\n",
        "    data_l = torch.cat((data_l, data_c), dim=1)\n",
        "    data_r = torch.cat((data_c, data_r), dim=1)\n",
        "\n",
        "    data_l = self.conv_l2(data_l)\n",
        "    data_l = self.mp(data_l)\n",
        "\n",
        "    data_r = self.conv_r2(data_r)\n",
        "    data_r = self.mp(data_r)\n",
        "\n",
        "    data_c = self.ap(data_c)\n",
        "\n",
        "    data_l, data_r = torch.cat((data_l, data_c, data_r), dim=1), torch.cat((data_l, data_c, data_r), dim=1)\n",
        "\n",
        "    data_l = self.conv_l3(data_l)\n",
        "    data_l = self.mp(data_l)\n",
        "\n",
        "    data_r = self.conv_r3(data_r)\n",
        "    data_r = -self.mp(-data_r)\n",
        "\n",
        "    data_c = self.ap(data_c)\n",
        "\n",
        "    data = torch.cat((data_l, data_c, data_r), dim=1)\n",
        "\n",
        "    data = self.conv_f(data)\n",
        "    data = self.ap(data)\n",
        "    \n",
        "    return int(np.prod(data.size()))\n",
        "\n",
        "  def forward(self, data):\n",
        "    data = self.conv_1(data)\n",
        "    data = self.ap(data)\n",
        "    data = self.bn_1(data)\n",
        "    data = F.relu(data)\n",
        "\n",
        "    data = self.conv_b(data)\n",
        "    data = self.ap(data)\n",
        "    data = self.bn_b(data)\n",
        "    data = F.relu(data)\n",
        "    \n",
        "    data_c = self.conv_c1(data)\n",
        "    data_c = self.bn_c1(data_c)\n",
        "    data_c = F.relu(data_c)\n",
        "\n",
        "    data = torch.cat((data, data_c), dim=1)\n",
        "\n",
        "    data_l = self.conv_l1(data)\n",
        "    data_l = self.mp(data_l)\n",
        "    data_l = self.bn_l1(data_l)\n",
        "    data_l = F.relu(data_l)\n",
        "\n",
        "    data_r = self.conv_r1(data)\n",
        "    data_r = -self.mp(-data_r)\n",
        "    data_r = self.bn_r1(data_r)\n",
        "    data_r = F.relu(data_r)\n",
        "\n",
        "    data_c = self.ap(data_c)\n",
        "    data_c = torch.cat((data_l, data_c, data_r), dim=1)\n",
        "    data_c = self.conv_c2(data_c)\n",
        "    data_c = self.bn_c2(data_c)\n",
        "    data_c = F.relu(data_c)\n",
        "\n",
        "    data_l = torch.cat((data_l, data_c), dim=1)\n",
        "    data_r = torch.cat((data_c, data_r), dim=1)\n",
        "\n",
        "    data_l = self.conv_l2(data_l)\n",
        "    data_l = self.mp(data_l)\n",
        "    data_l = self.bn_l2(data_l)\n",
        "    data_l = F.relu(data_l)\n",
        "\n",
        "    data_r = self.conv_r2(data_r)\n",
        "    data_r = -self.mp(-data_r)\n",
        "    data_r = self.bn_r2(data_r)\n",
        "    data_r = F.relu(data_r)\n",
        "\n",
        "    data_c = self.ap(data_c)\n",
        "\n",
        "    data_l, data_r = (torch.cat((data_l, data_c, self.dropout(data_r)), dim=1), \n",
        "                      torch.cat((self.dropout(data_l), data_c, data_r), dim=1))\n",
        "\n",
        "    data_l = self.conv_l3(data_l)\n",
        "    data_l = self.mp(data_l)\n",
        "    data_l = self.bn_l3(data_l)\n",
        "    data_l = F.relu(data_l)\n",
        "\n",
        "    data_r = self.conv_r3(data_r)\n",
        "    data_r = -self.mp(-data_r)\n",
        "    data_r = self.bn_r3(data_r)\n",
        "    data_r = F.relu(data_r)\n",
        "\n",
        "    data_c = self.dropout(data_c)\n",
        "    data_c = self.ap(data_c)\n",
        "\n",
        "    data = torch.cat((data_l, data_c, data_r), dim=1)\n",
        "\n",
        "    data = self.conv_f(data)\n",
        "    data = self.ap(data)\n",
        "    data = self.bn_f(data)\n",
        "    data = F.relu(data)\n",
        "    \n",
        "    data = data.view(data.size(0), -1)\n",
        "    \n",
        "    # if self.mode=='age':\n",
        "    #   data = F.relu(self.fc_a1(data))\n",
        "    #   data = F.relu(self.fc_a2(data))\n",
        "    # elif self.mode=='gen':\n",
        "    #   data = F.relu(self.fc_g1(data))\n",
        "    #   data = torch.sigmoid(self.fc_g2(data))\n",
        "    # elif self.mode == 'eth':\n",
        "    #   data = F.relu(self.fc_e1(data))\n",
        "    #   data = torch.sigmoid(self.fc_e2(data))\n",
        "    # else:\n",
        "    #   data_a = F.relu(self.fc_a1(data))\n",
        "    #   data_a = F.relu(self.fc_a2(data_a))\n",
        "    #   data_g = F.relu(self.fc_g1(data))\n",
        "    #   data_g = torch.sigmoid(self.fc_g2(data_g))\n",
        "    #   data_e = F.relu(self.fc_e1(data))\n",
        "    #   data_e = torch.sigmoid(self.fc_e2(data_e))\n",
        "    #   data = torch.cat((data_a, data_g, data_e), dim=1)\n",
        "\n",
        "    if self.mode=='age':\n",
        "      data = F.relu(self.bn_a1(self.fc_a1(data)))\n",
        "      data = F.relu(self.fc_a2(data))\n",
        "    elif self.mode=='gen':\n",
        "      data = F.relu(self.bn_g1(self.fc_g1(data)))\n",
        "      data = torch.sigmoid(self.fc_g2(data))\n",
        "    elif self.mode == 'eth':\n",
        "      data = F.relu(self.bn_e1(self.fc_e1(data)))\n",
        "      data = torch.sigmoid(self.fc_e2(data))\n",
        "    else:\n",
        "      data_a = F.relu(self.bn_a1(self.fc_a1(data)))\n",
        "      data_a = F.relu(self.fc_a2(data_a))\n",
        "      data_g = F.relu(self.bn_g1(self.fc_g1(data)))\n",
        "      data_g = torch.sigmoid(self.fc_g2(data_g))\n",
        "      data_e = F.relu(self.bn_e1(self.fc_e1(data)))\n",
        "      data_e = torch.sigmoid(self.fc_e2(data_e))\n",
        "      data = torch.cat((data_a, data_g, data_e), dim=1)\n",
        "    \n",
        "    return data"
      ],
      "id": "-1pAkkWZdRWp",
      "execution_count": 23,
      "outputs": []
    },
    {
      "cell_type": "code",
      "metadata": {
        "id": "jFeYrVjzfsUQ",
        "cellView": "form"
      },
      "source": [
        "#@title tree_full_CNN_sum\n",
        "class tree_full_CNN_sum(nn.Module):\n",
        "  def __init__(self, start, dims, drop_rate, mode='none', input_size=3):\n",
        "    super(tree_full_CNN_sum, self).__init__()\n",
        "    self.input_size = input_size\n",
        "    self.dims = dims\n",
        "    self.mode = mode\n",
        "\n",
        "    new_start = start // 2\n",
        "    self.conv_r = nn.Conv2d(self.input_size, new_start, 13, padding=1) # 200-94\n",
        "    \n",
        "    self.bn_b = nn.BatchNorm2d(new_start)\n",
        "    self.conv_b = nn.Conv2d(new_start, start, 11, padding=5) # 128-64        \n",
        "            \n",
        "    self.bn_c1 = nn.BatchNorm2d(start)\n",
        "    self.conv_c1 = nn.Conv2d(start, start, 9, padding=4) # 64\n",
        "    \n",
        "\n",
        "    self.conv_l1 = nn.Conv2d(start, start*2, 5, padding=2) # 64\n",
        "    self.conv_r1 = nn.Conv2d(start, start*2, 5, padding=2) # 64\n",
        "    \n",
        "    self.bn_c2 = nn.BatchNorm2d(start*2)\n",
        "    self.conv_c2 = nn.Conv2d(start*2, start*4, 7, padding=3) # 32\n",
        "    \n",
        "    self.bn_lr2 = nn.BatchNorm2d(start*4)\n",
        "    self.conv_l2 = nn.Conv2d(start*4, start*8, 3, padding=1) # 32\n",
        "    self.conv_r2 = nn.Conv2d(start*4, start*8, 3, padding=1) # 32\n",
        "    \n",
        "    self.bn_lr3 = nn.BatchNorm2d(start*8)\n",
        "    self.conv_l3 = nn.Conv2d(start*8, start*16, 3, padding=1) # 16\n",
        "    self.conv_r3 = nn.Conv2d(start*8, start*16, 3, padding=1) # 16\n",
        "    \n",
        "    self.bn_c3 = nn.BatchNorm2d(start*16)\n",
        "    self.conv_f = nn.Conv2d(start*16, start*32, 3) # 8\n",
        "    self.bn_f = nn.BatchNorm2d(start*32)    \n",
        "        \n",
        "    self.mp = nn.MaxPool2d(2, ceil_mode=False)\n",
        "    self.ap = nn.AvgPool2d(2, ceil_mode=False)\n",
        "    self.dropout = nn.Dropout(drop_rate)\n",
        "    \n",
        "    input_dims = self.calc_input_dims()\n",
        "    factor = input_dims // 3\n",
        "\n",
        "    if mode=='age':\n",
        "      self.fc_a1 = nn.Linear(input_dims, factor)\n",
        "      self.bn_a1 = nn.BatchNorm1d(factor)\n",
        "      self.fc_a2 = nn.Linear(factor, 1)\n",
        "    elif mode=='gen':\n",
        "      self.fc_g1 = nn.Linear(input_dims, factor)\n",
        "      self.bn_g1 = nn.BatchNorm1d(factor)\n",
        "      self.fc_g2 = nn.Linear(factor, 2)\n",
        "    elif mode=='eth':\n",
        "      self.fc_e1 = nn.Linear(input_dims, factor)\n",
        "      self.bn_e1 = nn.BatchNorm1d(factor)\n",
        "      self.fc_e2 = nn.Linear(factor, 5)\n",
        "    else:\n",
        "      self.fc_a1 = nn.Linear(input_dims, factor)\n",
        "      self.bn_a1 = nn.BatchNorm1d(factor)\n",
        "      self.fc_a2 = nn.Linear(factor, 1)\n",
        "      self.fc_g1 = nn.Linear(input_dims, factor)\n",
        "      self.bn_g1 = nn.BatchNorm1d(factor)\n",
        "      self.fc_g2 = nn.Linear(factor, 2)\n",
        "      self.fc_e1 = nn.Linear(input_dims, factor)\n",
        "      self.bn_e1 = nn.BatchNorm1d(factor)\n",
        "      self.fc_e2 = nn.Linear(factor, 5)\n",
        "\n",
        "    self.weights_init()\n",
        "  \n",
        "  def weights_init(self):\n",
        "    for m in self.modules():\n",
        "      if isinstance(m, nn.Conv2d):\n",
        "        nn.init.kaiming_uniform_(m.weight, mode='fan_in', nonlinearity='relu')\n",
        "              \n",
        "  def calc_input_dims(self):\n",
        "    data = torch.zeros((1, self.input_size, self.dims, self.dims))\n",
        "\n",
        "    data = self.conv_r(data)\n",
        "    data = self.ap(data)\n",
        "\n",
        "    data = self.conv_b(data)\n",
        "    data = self.ap(data)\n",
        "        \n",
        "    data = self.conv_c1(data)\n",
        "    data = self.ap(data)\n",
        "    \n",
        "    data = self.conv_c2(data.repeat(1,2,1,1))\n",
        "\n",
        "    data = self.ap(data)\n",
        "    data = self.ap(data)\n",
        "\n",
        "    data = self.conv_f(data.repeat(1,4,1,1))\n",
        "    data = self.ap(data)\n",
        "    \n",
        "    return int(np.prod(data.size()))\n",
        "\n",
        "  def forward(self, data):\n",
        "    data = self.conv_r(data)\n",
        "    data = self.ap(data)\n",
        "\n",
        "    data = self.bn_b(data)\n",
        "    data = F.relu(data)\n",
        "    data = self.conv_b(data)\n",
        "    data_c = self.ap(data)\n",
        "    data_l = self.mp(data)\n",
        "    data_r = -self.mp(-data)\n",
        "\n",
        "    data_c = self.bn_c1(data_c)\n",
        "    data_c = F.relu(data_c)\n",
        "    data_c = self.conv_c1(data_c)\n",
        "    \n",
        "    data_l = self.bn_c1(data_l + data_c)\n",
        "    data_r = self.bn_c1(data_c + data_r)\n",
        "    \n",
        "    data_l = self.conv_l1(data_l)\n",
        "    data_r = self.conv_r1(data_r)\n",
        "    \n",
        "    data_c = self.ap(data_l + data_c.repeat(1,2,1,1) + data_r)\n",
        "    data_c = self.bn_c2(data_c)\n",
        "    data_c = F.relu(data_c)\n",
        "    data_c = self.conv_c2(data_c)\n",
        "\n",
        "    data_l = self.mp(data_l)\n",
        "    data_l = self.bn_lr2(data_l.repeat(1,2,1,1) + data_c)\n",
        "    data_l = F.relu(data_l)\n",
        "    data_l = self.conv_l2(data_l)\n",
        "\n",
        "    data_r = -self.mp(-data_r)\n",
        "    data_r = self.bn_lr2(data_c + data_r.repeat(1,2,1,1))\n",
        "    data_r = F.relu(data_r)\n",
        "    data_r = self.conv_r2(data_r)\n",
        "\n",
        "    data = self.mp(data_l + data_c.repeat(1,2,1,1) + self.dropout(data_r))\n",
        "    data = self.bn_lr3(data)\n",
        "    data = F.relu(data)\n",
        "    data = self.conv_l3(data)\n",
        "\n",
        "    data_r = -self.mp(-(self.dropout(data_l) + data_c.repeat(1,2,1,1) + data_r))\n",
        "    data_r = self.bn_lr3(data_r)\n",
        "    data_r = F.relu(data_r)\n",
        "    data_r = self.conv_r3(data_r)\n",
        "\n",
        "    data_c = self.ap(data_c)\n",
        "    data_c = self.dropout(data_c.repeat(1,4,1,1))\n",
        "    data_c = self.ap(data + data_c + data_r)\n",
        "    data = self.bn_c3(data_c)\n",
        "    data = F.relu(data)\n",
        "    data = self.conv_f(data)\n",
        "    data = self.ap(data)\n",
        "    data = self.bn_f(data)\n",
        "    data = F.relu(data)\n",
        "    \n",
        "    data = data.view(data.size(0), -1)\n",
        "    \n",
        "    if self.mode=='age':\n",
        "      data = F.relu(self.bn_a1(self.fc_a1(data)))\n",
        "      data = F.relu(self.fc_a2(data))\n",
        "    elif self.mode=='gen':\n",
        "      data = F.relu(self.bn_g1(self.fc_g1(data)))\n",
        "      data = torch.sigmoid(self.fc_g2(data))\n",
        "    elif self.mode == 'eth':\n",
        "      data = F.relu(self.bn_e1(self.fc_e1(data)))\n",
        "      data = torch.sigmoid(self.fc_e2(data))\n",
        "    else:\n",
        "      data_a = F.relu(self.bn_a1(self.fc_a1(data)))\n",
        "      data_a = F.relu(self.fc_a2(data_a))\n",
        "      data_g = F.relu(self.bn_g1(self.fc_g1(data)))\n",
        "      data_g = torch.sigmoid(self.fc_g2(data_g))\n",
        "      data_e = F.relu(self.bn_e1(self.fc_e1(data)))\n",
        "      data_e = torch.sigmoid(self.fc_e2(data_e))\n",
        "      data = torch.cat((data_a, data_g, data_e), dim=1)\n",
        "    \n",
        "    return data"
      ],
      "id": "jFeYrVjzfsUQ",
      "execution_count": null,
      "outputs": []
    },
    {
      "cell_type": "markdown",
      "metadata": {
        "id": "SX7TQnWTiR_8"
      },
      "source": [
        "# Training"
      ],
      "id": "SX7TQnWTiR_8"
    },
    {
      "cell_type": "code",
      "metadata": {
        "id": "r3pmBK7ucMAk",
        "colab": {
          "base_uri": "https://localhost:8080/"
        },
        "outputId": "a286eed1-6bc6-4514-b2d5-a620d8b9783d"
      },
      "source": [
        "start = 32\n",
        "print('dims = ', dims)\n",
        "drop_rate = 0.05\n",
        "mode = 'none'"
      ],
      "id": "r3pmBK7ucMAk",
      "execution_count": 93,
      "outputs": [
        {
          "output_type": "stream",
          "name": "stdout",
          "text": [
            "dims =  200\n"
          ]
        }
      ]
    },
    {
      "cell_type": "code",
      "metadata": {
        "id": "qasb-n4UgcQk"
      },
      "source": [
        "#model = res_CNN(start=start, dims=dims, mode=mode)\n",
        "#model = simple_CNN(start=start, dims=dims, mode=mode)\n",
        "model = tree_full_CNN(start=start, dims=dims, drop_rate=drop_rate, mode=mode)\n",
        "#model = tree_full_CNN_sum(start=start, dims=dims, drop_rate=drop_rate, mode=mode)\n",
        "\n",
        "if torch.cuda.is_available():\n",
        "    model.cuda()"
      ],
      "id": "qasb-n4UgcQk",
      "execution_count": 94,
      "outputs": []
    },
    {
      "cell_type": "code",
      "metadata": {
        "id": "8-BdOCRG0csD"
      },
      "source": [
        "learning_rate = 0.0001\n",
        "l2 = 0.00005"
      ],
      "id": "8-BdOCRG0csD",
      "execution_count": 156,
      "outputs": []
    },
    {
      "cell_type": "code",
      "metadata": {
        "id": "uL8culRx0TuJ"
      },
      "source": [
        "optimizer = torch.optim.AdamW(model.parameters(), lr=learning_rate, weight_decay=l2, amsgrad=False)\n",
        "#optimizer = torch.optim.SGD(model.parameters(), lr=learning_rate, momentum=0.9, weight_decay=l2, nesterov=True)\n",
        "#optimizer = torch.optim.RMSprop(model.parameters(), lr=learning_rate, weight_decay=l2, momentum=0.9, centered=False)"
      ],
      "id": "uL8culRx0TuJ",
      "execution_count": 157,
      "outputs": []
    },
    {
      "cell_type": "code",
      "metadata": {
        "id": "xQG2QnuqECQ9",
        "colab": {
          "base_uri": "https://localhost:8080/"
        },
        "outputId": "5f5a1d68-fa41-441b-8ec1-f600b19c83c1"
      },
      "source": [
        "#model.load_state_dict(torch.load('/content/gdrive/MyDrive/Colab Notebooks/model_200_05_0001_0.pt'))\n",
        "#optimizer.load_state_dict('/content/gdrive/MyDrive/Colab Notebooks/optimizer.pt')"
      ],
      "id": "xQG2QnuqECQ9",
      "execution_count": null,
      "outputs": [
        {
          "output_type": "execute_result",
          "data": {
            "text/plain": [
              "<All keys matched successfully>"
            ]
          },
          "metadata": {},
          "execution_count": 150
        }
      ]
    },
    {
      "cell_type": "code",
      "metadata": {
        "colab": {
          "base_uri": "https://localhost:8080/"
        },
        "id": "rLypZbRmEAlF",
        "outputId": "f521ff35-7d80-4c81-e953-6db3f801c388"
      },
      "source": [
        "print('num of parameters:', sum(p.numel() for p in model.parameters() if p.requires_grad))"
      ],
      "id": "rLypZbRmEAlF",
      "execution_count": 97,
      "outputs": [
        {
          "output_type": "stream",
          "name": "stdout",
          "text": [
            "num of parameters: 28118354\n"
          ]
        }
      ]
    },
    {
      "cell_type": "code",
      "metadata": {
        "id": "oVioIp-IJMzQ"
      },
      "source": [
        "epochs = 10\n",
        "batch_size = 256\n",
        "l_a = nn.MSELoss()\n",
        "l_g = nn.CrossEntropyLoss()\n",
        "l_e = nn.CrossEntropyLoss()\n",
        "aug_prob = 0.4\n",
        "ov_samp = True\n",
        "params =(epochs, batch_size, mode, l_a, l_g, l_e, aug_prob, ov_samp, age_ratio, eth_ratio)"
      ],
      "id": "oVioIp-IJMzQ",
      "execution_count": 158,
      "outputs": []
    },
    {
      "cell_type": "code",
      "metadata": {
        "colab": {
          "base_uri": "https://localhost:8080/"
        },
        "id": "93w9IEzGgcTc",
        "outputId": "1cd43f30-fb3f-427d-888c-ff6cbc15a2f0"
      },
      "source": [
        "%%time\n",
        "loss_train, loss_val = train_validate(model, X_train, y_train, \n",
        "                                      X_val, y_val, params, optimizer)"
      ],
      "id": "93w9IEzGgcTc",
      "execution_count": 159,
      "outputs": [
        {
          "output_type": "stream",
          "name": "stdout",
          "text": [
            "[==================================================] 100%, epoch 10\n",
            "CPU times: user 39min 30s, sys: 53.8 s, total: 40min 23s\n",
            "Wall time: 31min 55s\n"
          ]
        }
      ]
    },
    {
      "cell_type": "code",
      "metadata": {
        "colab": {
          "base_uri": "https://localhost:8080/",
          "height": 833
        },
        "id": "qSI8DyLzgcWO",
        "outputId": "dd8aa9b4-0ff7-417c-d6e0-df5df8e4583e"
      },
      "source": [
        "plot_train_val(loss_train, loss_val, mode)"
      ],
      "id": "qSI8DyLzgcWO",
      "execution_count": 160,
      "outputs": [
        {
          "output_type": "display_data",
          "data": {
            "image/png": "[encoded data removed]",
            "text/plain": [
              "<Figure size 432x288 with 1 Axes>"
            ]
          },
          "metadata": {
            "needs_background": "light"
          }
        },
        {
          "output_type": "display_data",
          "data": {
            "image/png": "[encoded data removed]",
            "text/plain": [
              "<Figure size 432x288 with 1 Axes>"
            ]
          },
          "metadata": {
            "needs_background": "light"
          }
        },
        {
          "output_type": "display_data",
          "data": {
            "image/png": "[encoded data removed]",
            "text/plain": [
              "<Figure size 432x288 with 1 Axes>"
            ]
          },
          "metadata": {
            "needs_background": "light"
          }
        }
      ]
    },
    {
      "cell_type": "code",
      "metadata": {
        "colab": {
          "base_uri": "https://localhost:8080/",
          "height": 340
        },
        "id": "WAF-hBZ9y6K9",
        "outputId": "58ca3547-665c-444c-dbf2-5e8b99c5fd19"
      },
      "source": [
        "class_accuracy(model, X_val, y_val, batch_size, mode)"
      ],
      "id": "WAF-hBZ9y6K9",
      "execution_count": 161,
      "outputs": [
        {
          "output_type": "display_data",
          "data": {
            "image/png": "[encoded data removed]",
            "text/plain": [
              "<Figure size 432x288 with 1 Axes>"
            ]
          },
          "metadata": {
            "needs_background": "light"
          }
        },
        {
          "output_type": "stream",
          "name": "stdout",
          "text": [
            "age Mean Error is 5.833930015563965\n",
            "gender accuracy is 0.8962053571428571\n",
            "ethnicity accuracy is 0.7901785714285714\n"
          ]
        }
      ]
    },
    {
      "cell_type": "code",
      "metadata": {
        "id": "Z746VSTpxhvP"
      },
      "source": [
        "model.train()\n",
        "torch.save(model.state_dict(), '/content/gdrive/MyDrive/Colab Notebooks/model.pt')\n",
        "#torch.save(optimizer.state_dict(), '/content/gdrive/MyDrive/Colab Notebooks/optimizer.pt')"
      ],
      "id": "Z746VSTpxhvP",
      "execution_count": 164,
      "outputs": []
    },
    {
      "cell_type": "code",
      "metadata": {
        "id": "4Lf5gSKWTsqc"
      },
      "source": [
        ""
      ],
      "id": "4Lf5gSKWTsqc",
      "execution_count": null,
      "outputs": []
    },
    {
      "cell_type": "code",
      "metadata": {
        "id": "t6k_fNc3WnJ5"
      },
      "source": [
        ""
      ],
      "id": "t6k_fNc3WnJ5",
      "execution_count": null,
      "outputs": []
    },
    {
      "cell_type": "markdown",
      "metadata": {
        "id": "MOlfbkpoKkD6"
      },
      "source": [
        "# Test"
      ],
      "id": "MOlfbkpoKkD6"
    },
    {
      "cell_type": "code",
      "metadata": {
        "id": "ObzrvS6BWnQf",
        "cellView": "form"
      },
      "source": [
        "#@title test_accuracy\n",
        "def test_accuracy(model, image):\n",
        "  path = '/content/gdrive/MyDrive/Colab Notebooks/' + image\n",
        "  im = Image.open(path)\n",
        "  #im.show()\n",
        "  transform = transforms.Compose([\n",
        "                      transforms.ToTensor(),\n",
        "                      transforms.Normalize((0.485, 0.456, 0.406), (0.229, 0.224, 0.225))])\n",
        "  X = transform(im)[None]\n",
        "  \n",
        "  model.eval()\n",
        "  with torch.no_grad():\n",
        "    output = model(X.to(device))\n",
        "  #   pred_g = torch.argmax(output[:,1:3], dim=1).item()\n",
        "  #   pred_e = torch.argmax(output[:,3:], dim=1).item()\n",
        "  #   age = output[:,0].item()\n",
        "  # return age, pred_g, pred_e\n",
        "  return output"
      ],
      "id": "ObzrvS6BWnQf",
      "execution_count": 144,
      "outputs": []
    },
    {
      "cell_type": "code",
      "metadata": {
        "id": "30gVcKbPPKiz",
        "cellView": "form"
      },
      "source": [
        "#@title test_classes\n",
        "def test_classes(result):\n",
        "  #result = torch.squeeze(result)\n",
        "  ethnicity = ['White', 'Black', 'Asian', 'Indian', 'Hispanic']\n",
        "  gender = ['Male', 'Female']\n",
        "  print('age is', result[0].item())\n",
        "  gen = torch.argmax(result[1:3]).item()\n",
        "  print('gender is', gender[gen])\n",
        "  eth = torch.argmax(result[3:]).item()\n",
        "  print('ethnicity is', ethnicity[eth])"
      ],
      "id": "30gVcKbPPKiz",
      "execution_count": 145,
      "outputs": []
    },
    {
      "cell_type": "code",
      "metadata": {
        "id": "OcJrTOSeWnWb"
      },
      "source": [
        "image = 'prof_200.jpg' "
      ],
      "id": "OcJrTOSeWnWb",
      "execution_count": 146,
      "outputs": []
    },
    {
      "cell_type": "code",
      "metadata": {
        "id": "jW-osua0Wnc-"
      },
      "source": [
        "result = test_accuracy(model, image)"
      ],
      "id": "jW-osua0Wnc-",
      "execution_count": 162,
      "outputs": []
    },
    {
      "cell_type": "code",
      "metadata": {
        "id": "J9r7aM4vPKpW",
        "colab": {
          "base_uri": "https://localhost:8080/"
        },
        "outputId": "12d36d6a-acfb-4e06-814b-f90e6401ffa5"
      },
      "source": [
        "print(result[0,0].cpu().numpy())\n",
        "print(result[0,1:3].cpu().numpy())\n",
        "print(result[0,3:].cpu().numpy())\n",
        "test_classes(torch.squeeze(result))"
      ],
      "id": "J9r7aM4vPKpW",
      "execution_count": 163,
      "outputs": [
        {
          "output_type": "stream",
          "name": "stdout",
          "text": [
            "39.99559\n",
            "[9.9983299e-01 1.5896889e-04]\n",
            "[1.1803160e-09 9.9999988e-01 1.2861923e-04 6.0187094e-10 1.0008578e-09]\n",
            "age is 39.99559020996094\n",
            "gender is Male\n",
            "ethnicity is Black\n"
          ]
        }
      ]
    },
    {
      "cell_type": "markdown",
      "metadata": {
        "id": "AEKvLBIOEpxj"
      },
      "source": [
        "# Evaluation metrics"
      ],
      "id": "AEKvLBIOEpxj"
    },
    {
      "cell_type": "code",
      "metadata": {
        "cellView": "form",
        "id": "h69EIaMDFn7X"
      },
      "source": [
        "#@title conf_matrix\n",
        "def conf_matrix(model, X_in, y_in, batch_size):\n",
        "  model.eval()\n",
        "  with torch.no_grad():\n",
        "    new_size = y_in.size(0) - (y_in.size(0) % batch_size)\n",
        "    pred_g = []\n",
        "    pred_e = []  \n",
        "    for i in range(0, new_size, batch_size):\n",
        "      X = X_in[i:i+batch_size]\n",
        "      y = y_in[i:i+batch_size]\n",
        "      X = X.to(device)\n",
        "      y = y.to(device)\n",
        "      output = model(X)\n",
        "        \n",
        "      pred_g.extend(torch.argmax(output[:,1:3], dim=1).cpu().numpy())\n",
        "      pred_e.extend(torch.argmax(output[:,3:], dim=1).cpu().numpy())\n",
        "      \n",
        "\n",
        "  \n",
        "  conf_mat = confusion_matrix(y_in[:new_size,1], pred_g)\n",
        "  ax = sns.heatmap(conf_mat, annot=True, cmap='Blues')\n",
        "  ax.set_title('Gender Confusion Matrix\\n')\n",
        "  ax.set_xlabel('\\nPredicted Values')\n",
        "  ax.set_ylabel('Actual Values ')\n",
        "  ax.xaxis.set_ticklabels(['Male','Female'])\n",
        "  ax.yaxis.set_ticklabels(['Male','Female'])\n",
        "  plt.show()\n",
        "\n",
        "  conf_mat = confusion_matrix(y_in[:new_size,2], pred_e)\n",
        "  ax = sns.heatmap(conf_mat, annot=True, cmap='Blues')\n",
        "  ax.set_title('Ethnicity Confusion Matrix\\n')\n",
        "  ax.set_xlabel('\\nPredicted Values')\n",
        "  ax.set_ylabel('Actual Values ')\n",
        "  ax.xaxis.set_ticklabels(['White','Black', 'Asian', 'Indian', 'Other'])\n",
        "  ax.yaxis.set_ticklabels(['White','Black', 'Asian', 'Indian', 'Other'])\n",
        "  plt.show()"
      ],
      "id": "h69EIaMDFn7X",
      "execution_count": null,
      "outputs": []
    },
    {
      "cell_type": "code",
      "metadata": {
        "id": "ujgA70VVPKv8",
        "colab": {
          "base_uri": "https://localhost:8080/",
          "height": 627
        },
        "outputId": "82835c1b-72a9-4ed3-b5bf-447c78ae8dc4"
      },
      "source": [
        "conf_matrix(model, X_test, y_test, batch_size)"
      ],
      "id": "ujgA70VVPKv8",
      "execution_count": null,
      "outputs": [
        {
          "output_type": "display_data",
          "data": {
            "image/png": "[encoded data removed]",
            "text/plain": [
              "<Figure size 432x288 with 2 Axes>"
            ]
          },
          "metadata": {
            "needs_background": "light"
          }
        },
        {
          "output_type": "display_data",
          "data": {
            "image/png": "[encoded data removed]",
            "text/plain": [
              "<Figure size 432x288 with 2 Axes>"
            ]
          },
          "metadata": {
            "needs_background": "light"
          }
        }
      ]
    },
    {
      "cell_type": "code",
      "metadata": {
        "id": "wcn-q5TPPK2f",
        "colab": {
          "base_uri": "https://localhost:8080/",
          "height": 340
        },
        "outputId": "1c8e5972-d8bc-49b0-a64b-e635393e5866"
      },
      "source": [
        "class_accuracy(model, X_test, y_test, batch_size, mode)"
      ],
      "id": "wcn-q5TPPK2f",
      "execution_count": null,
      "outputs": [
        {
          "output_type": "display_data",
          "data": {
            "image/png": "[encoded data removed]",
            "text/plain": [
              "<Figure size 432x288 with 1 Axes>"
            ]
          },
          "metadata": {
            "needs_background": "light"
          }
        },
        {
          "output_type": "stream",
          "name": "stdout",
          "text": [
            "age Mean Error is 6.103487968444824\n",
            "gender accuracy is 0.8993055555555556\n",
            "ethnicity accuracy is 0.7899305555555556\n"
          ]
        }
      ]
    },
    {
      "cell_type": "code",
      "metadata": {
        "id": "_3V4MWkSgQQo"
      },
      "source": [
        ""
      ],
      "id": "_3V4MWkSgQQo",
      "execution_count": null,
      "outputs": []
    }
  ]
}